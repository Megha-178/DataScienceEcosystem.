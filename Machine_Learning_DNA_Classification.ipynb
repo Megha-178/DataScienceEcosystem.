{
  "nbformat": 4,
  "nbformat_minor": 0,
  "metadata": {
    "colab": {
      "provenance": [],
      "authorship_tag": "ABX9TyMS/vvyCHhCyhi2sfGScPlH",
      "include_colab_link": true
    },
    "kernelspec": {
      "name": "python3",
      "display_name": "Python 3"
    },
    "language_info": {
      "name": "python"
    }
  },
  "cells": [
    {
      "cell_type": "markdown",
      "metadata": {
        "id": "view-in-github",
        "colab_type": "text"
      },
      "source": [
        "<a href=\"https://colab.research.google.com/github/Megha-178/DataScienceEcosystem./blob/main/Machine_Learning_DNA_Classification.ipynb\" target=\"_parent\"><img src=\"https://colab.research.google.com/assets/colab-badge.svg\" alt=\"Open In Colab\"/></a>"
      ]
    },
    {
      "cell_type": "markdown",
      "source": [
        "#DNA Classification\n",
        "K nearest nwighbors, Markov models, Support vector machine\n",
        "\n",
        "For the dataset UCI Repository is used, which has 106 DNA Sequences and 57 sequential nucleotides\n",
        "\n",
        "focused on developing and assessing machine learning models for a classification task using a provided dataset. Beginning with data preprocessing steps like handling missing values and encoding categorical variables, the project progressed to model selection, encompassing various algorithms such as K-Nearest Neighbors, Decision Trees, Random Forests, Neural Networks, AdaBoost, Naive Bayes, and Support Vector Machines with different kernels. Following model training on the training data, evaluation via cross-validation techniques ensued, with performance metrics like accuracy, precision, recall, and F1-score scrutinized on the test set. Through meticulous observation, it was noted that certain models, notably SVM with a linear kernel and Gaussian Naive Bayes, consistently outperformed others across multiple metrics. The insights gleaned from these findings underscored the pivotal role of algorithm selection and parameter tuning in optimizing model performance. Ultimately, the project offered actionable recommendations, emphasizing the importance of weighing factors like model complexity, interpretability, and performance trade-offs when making informed decisions in model selection for classification tasks."
      ],
      "metadata": {
        "id": "YF3nxm3n3g1m"
      }
    },
    {
      "cell_type": "code",
      "source": [
        "import sys\n",
        "import numpy as np\n",
        "import sklearn\n",
        "import pandas as pd\n"
      ],
      "metadata": {
        "id": "4Z91AIxz4Vp_"
      },
      "execution_count": null,
      "outputs": []
    },
    {
      "cell_type": "code",
      "source": [
        "url= 'https://archive.ics.uci.edu/ml/machine-learning-databases/molecular-biology/promoter-gene-sequences/promoters.data'\n",
        "names= ['class','id','sequence']\n",
        "data=pd.read_csv(url,names=names)"
      ],
      "metadata": {
        "id": "tDEzfrYbTa12"
      },
      "execution_count": null,
      "outputs": []
    },
    {
      "cell_type": "code",
      "source": [
        "print(data.iloc[0]) #iloc is used to access a group of rows /columns by integer values"
      ],
      "metadata": {
        "colab": {
          "base_uri": "https://localhost:8080/"
        },
        "id": "AGr3eVj6VUKj",
        "outputId": "95e71216-73a4-4546-a78a-3c681c8301b1"
      },
      "execution_count": null,
      "outputs": [
        {
          "output_type": "stream",
          "name": "stdout",
          "text": [
            "class                                                       +\n",
            "id                                                        S10\n",
            "sequence    \\t\\ttactagcaatacgcttgcgttcggtggttaagtatgtataat...\n",
            "Name: 0, dtype: object\n"
          ]
        }
      ]
    },
    {
      "cell_type": "markdown",
      "source": [
        "generate a list of DNA sequences, loop through the sequences and split them into individual nucleotides"
      ],
      "metadata": {
        "id": "3N6BuFjZWiYC"
      }
    },
    {
      "cell_type": "code",
      "source": [
        "#generating the list of DNA Sequences\n",
        "sequences=list(data.loc[:, 'sequence'])\n",
        "dataset={}"
      ],
      "metadata": {
        "id": "VBVTiCkmWHmf"
      },
      "execution_count": null,
      "outputs": []
    },
    {
      "cell_type": "code",
      "source": [
        "classes=data.loc[:,'class']\n",
        "print(classes[:5])"
      ],
      "metadata": {
        "colab": {
          "base_uri": "https://localhost:8080/"
        },
        "id": "ZoefmuKzZeEf",
        "outputId": "574f1d73-ec2f-45a2-b328-512fd57ed231"
      },
      "execution_count": null,
      "outputs": [
        {
          "output_type": "stream",
          "name": "stdout",
          "text": [
            "0    +\n",
            "1    +\n",
            "2    +\n",
            "3    +\n",
            "4    +\n",
            "Name: class, dtype: object\n"
          ]
        }
      ]
    },
    {
      "cell_type": "markdown",
      "source": [
        "t=thymine, a=adenine, g=guanine, c=cytosine and so on"
      ],
      "metadata": {
        "id": "-IVT7IKVZdQW"
      }
    },
    {
      "cell_type": "code",
      "source": [
        "#looping through sequences and split the individual nucleotides\n",
        "for i, seq in enumerate(sequences):\n",
        "  nucleotides=list(seq)  #define nucleotides\n",
        "\n",
        "  #split nucleotides and remove the tab characters\n",
        "  nucleotides=[x for x in nucleotides if x != '\\t' ]\n",
        "\n",
        "  #append class\n",
        "  nucleotides.append(classes[i])\n",
        "\n",
        "  #add to dataset\n",
        "  dataset[i]=nucleotides\n",
        "\n",
        "print(dataset[0])\n"
      ],
      "metadata": {
        "colab": {
          "base_uri": "https://localhost:8080/"
        },
        "id": "Cw1_7jr0WHo8",
        "outputId": "34397957-788d-473d-9eaa-8921cac8ea41"
      },
      "execution_count": null,
      "outputs": [
        {
          "output_type": "stream",
          "name": "stdout",
          "text": [
            "['t', 'a', 'c', 't', 'a', 'g', 'c', 'a', 'a', 't', 'a', 'c', 'g', 'c', 't', 't', 'g', 'c', 'g', 't', 't', 'c', 'g', 'g', 't', 'g', 'g', 't', 't', 'a', 'a', 'g', 't', 'a', 't', 'g', 't', 'a', 't', 'a', 'a', 't', 'g', 'c', 'g', 'c', 'g', 'g', 'g', 'c', 't', 't', 'g', 't', 'c', 'g', 't', '+']\n"
          ]
        }
      ]
    },
    {
      "cell_type": "code",
      "source": [
        "dframe=pd.DataFrame(dataset)  #[58 rows x 106 columns]\n",
        "print(dframe)"
      ],
      "metadata": {
        "id": "kc8uHa85WHso"
      },
      "execution_count": null,
      "outputs": []
    },
    {
      "cell_type": "markdown",
      "source": [
        "# New Section"
      ],
      "metadata": {
        "id": "fQ4DaZxnQDg-"
      }
    },
    {
      "cell_type": "code",
      "source": [
        "#lets switch the rows and columns using the tranpose function ang bringing the first 5 instances\n",
        "df=dframe.transpose()\n",
        "print(df.iloc[:5])"
      ],
      "metadata": {
        "colab": {
          "base_uri": "https://localhost:8080/"
        },
        "id": "ElygCsxCWHvW",
        "outputId": "4670e84d-0127-44c7-c78e-2e61a0e05f98"
      },
      "execution_count": null,
      "outputs": [
        {
          "output_type": "stream",
          "name": "stdout",
          "text": [
            "  0  1  2  3  4  5  6  7  8  9   ... 48 49 50 51 52 53 54 55 56 57\n",
            "0  t  a  c  t  a  g  c  a  a  t  ...  g  c  t  t  g  t  c  g  t  +\n",
            "1  t  g  c  t  a  t  c  c  t  g  ...  c  a  t  c  g  c  c  a  a  +\n",
            "2  g  t  a  c  t  a  g  a  g  a  ...  c  a  c  c  c  g  g  c  g  +\n",
            "3  a  a  t  t  g  t  g  a  t  g  ...  a  a  c  a  a  a  c  t  c  +\n",
            "4  t  c  g  a  t  a  a  t  t  a  ...  c  c  g  t  g  g  t  a  g  +\n",
            "\n",
            "[5 rows x 58 columns]\n"
          ]
        }
      ]
    },
    {
      "cell_type": "code",
      "source": [
        "#Rename the last column as class\n",
        "df.rename(columns={57:'class'},inplace=True)\n",
        "print(df.iloc[:5])"
      ],
      "metadata": {
        "colab": {
          "base_uri": "https://localhost:8080/"
        },
        "id": "TcdvKqDxWHxk",
        "outputId": "32faae6d-f50e-424a-bace-9939e17c0b9d"
      },
      "execution_count": null,
      "outputs": [
        {
          "output_type": "stream",
          "name": "stdout",
          "text": [
            "   0  1  2  3  4  5  6  7  8  9  ... 48 49 50 51 52 53 54 55 56 class\n",
            "0  t  a  c  t  a  g  c  a  a  t  ...  g  c  t  t  g  t  c  g  t     +\n",
            "1  t  g  c  t  a  t  c  c  t  g  ...  c  a  t  c  g  c  c  a  a     +\n",
            "2  g  t  a  c  t  a  g  a  g  a  ...  c  a  c  c  c  g  g  c  g     +\n",
            "3  a  a  t  t  g  t  g  a  t  g  ...  a  a  c  a  a  a  c  t  c     +\n",
            "4  t  c  g  a  t  a  a  t  t  a  ...  c  c  g  t  g  g  t  a  g     +\n",
            "\n",
            "[5 rows x 58 columns]\n"
          ]
        }
      ]
    },
    {
      "cell_type": "code",
      "source": [
        "df.describe() #53 promoters and 53 non promoters, convert them to numeric values"
      ],
      "metadata": {
        "colab": {
          "base_uri": "https://localhost:8080/",
          "height": 204
        },
        "id": "EYOS8_-FckT5",
        "outputId": "8f103c28-3bfb-4d61-fd26-cc885d4d1661"
      },
      "execution_count": null,
      "outputs": [
        {
          "output_type": "execute_result",
          "data": {
            "text/plain": [
              "          0    1    2    3    4    5    6    7    8    9  ...   48   49   50  \\\n",
              "count   106  106  106  106  106  106  106  106  106  106  ...  106  106  106   \n",
              "unique    4    4    4    4    4    4    4    4    4    4  ...    4    4    4   \n",
              "top       t    a    a    c    a    a    a    a    a    a  ...    c    c    c   \n",
              "freq     38   34   30   30   36   42   38   34   33   36  ...   36   42   31   \n",
              "\n",
              "         51   52   53   54   55   56 class  \n",
              "count   106  106  106  106  106  106   106  \n",
              "unique    4    4    4    4    4    4     2  \n",
              "top       t    t    c    c    c    t     +  \n",
              "freq     33   35   32   29   29   34    53  \n",
              "\n",
              "[4 rows x 58 columns]"
            ],
            "text/html": [
              "\n",
              "  <div id=\"df-f34d9ce3-b186-48bc-a82c-cfa5e4a59541\" class=\"colab-df-container\">\n",
              "    <div>\n",
              "<style scoped>\n",
              "    .dataframe tbody tr th:only-of-type {\n",
              "        vertical-align: middle;\n",
              "    }\n",
              "\n",
              "    .dataframe tbody tr th {\n",
              "        vertical-align: top;\n",
              "    }\n",
              "\n",
              "    .dataframe thead th {\n",
              "        text-align: right;\n",
              "    }\n",
              "</style>\n",
              "<table border=\"1\" class=\"dataframe\">\n",
              "  <thead>\n",
              "    <tr style=\"text-align: right;\">\n",
              "      <th></th>\n",
              "      <th>0</th>\n",
              "      <th>1</th>\n",
              "      <th>2</th>\n",
              "      <th>3</th>\n",
              "      <th>4</th>\n",
              "      <th>5</th>\n",
              "      <th>6</th>\n",
              "      <th>7</th>\n",
              "      <th>8</th>\n",
              "      <th>9</th>\n",
              "      <th>...</th>\n",
              "      <th>48</th>\n",
              "      <th>49</th>\n",
              "      <th>50</th>\n",
              "      <th>51</th>\n",
              "      <th>52</th>\n",
              "      <th>53</th>\n",
              "      <th>54</th>\n",
              "      <th>55</th>\n",
              "      <th>56</th>\n",
              "      <th>class</th>\n",
              "    </tr>\n",
              "  </thead>\n",
              "  <tbody>\n",
              "    <tr>\n",
              "      <th>count</th>\n",
              "      <td>106</td>\n",
              "      <td>106</td>\n",
              "      <td>106</td>\n",
              "      <td>106</td>\n",
              "      <td>106</td>\n",
              "      <td>106</td>\n",
              "      <td>106</td>\n",
              "      <td>106</td>\n",
              "      <td>106</td>\n",
              "      <td>106</td>\n",
              "      <td>...</td>\n",
              "      <td>106</td>\n",
              "      <td>106</td>\n",
              "      <td>106</td>\n",
              "      <td>106</td>\n",
              "      <td>106</td>\n",
              "      <td>106</td>\n",
              "      <td>106</td>\n",
              "      <td>106</td>\n",
              "      <td>106</td>\n",
              "      <td>106</td>\n",
              "    </tr>\n",
              "    <tr>\n",
              "      <th>unique</th>\n",
              "      <td>4</td>\n",
              "      <td>4</td>\n",
              "      <td>4</td>\n",
              "      <td>4</td>\n",
              "      <td>4</td>\n",
              "      <td>4</td>\n",
              "      <td>4</td>\n",
              "      <td>4</td>\n",
              "      <td>4</td>\n",
              "      <td>4</td>\n",
              "      <td>...</td>\n",
              "      <td>4</td>\n",
              "      <td>4</td>\n",
              "      <td>4</td>\n",
              "      <td>4</td>\n",
              "      <td>4</td>\n",
              "      <td>4</td>\n",
              "      <td>4</td>\n",
              "      <td>4</td>\n",
              "      <td>4</td>\n",
              "      <td>2</td>\n",
              "    </tr>\n",
              "    <tr>\n",
              "      <th>top</th>\n",
              "      <td>t</td>\n",
              "      <td>a</td>\n",
              "      <td>a</td>\n",
              "      <td>c</td>\n",
              "      <td>a</td>\n",
              "      <td>a</td>\n",
              "      <td>a</td>\n",
              "      <td>a</td>\n",
              "      <td>a</td>\n",
              "      <td>a</td>\n",
              "      <td>...</td>\n",
              "      <td>c</td>\n",
              "      <td>c</td>\n",
              "      <td>c</td>\n",
              "      <td>t</td>\n",
              "      <td>t</td>\n",
              "      <td>c</td>\n",
              "      <td>c</td>\n",
              "      <td>c</td>\n",
              "      <td>t</td>\n",
              "      <td>+</td>\n",
              "    </tr>\n",
              "    <tr>\n",
              "      <th>freq</th>\n",
              "      <td>38</td>\n",
              "      <td>34</td>\n",
              "      <td>30</td>\n",
              "      <td>30</td>\n",
              "      <td>36</td>\n",
              "      <td>42</td>\n",
              "      <td>38</td>\n",
              "      <td>34</td>\n",
              "      <td>33</td>\n",
              "      <td>36</td>\n",
              "      <td>...</td>\n",
              "      <td>36</td>\n",
              "      <td>42</td>\n",
              "      <td>31</td>\n",
              "      <td>33</td>\n",
              "      <td>35</td>\n",
              "      <td>32</td>\n",
              "      <td>29</td>\n",
              "      <td>29</td>\n",
              "      <td>34</td>\n",
              "      <td>53</td>\n",
              "    </tr>\n",
              "  </tbody>\n",
              "</table>\n",
              "<p>4 rows × 58 columns</p>\n",
              "</div>\n",
              "    <div class=\"colab-df-buttons\">\n",
              "\n",
              "  <div class=\"colab-df-container\">\n",
              "    <button class=\"colab-df-convert\" onclick=\"convertToInteractive('df-f34d9ce3-b186-48bc-a82c-cfa5e4a59541')\"\n",
              "            title=\"Convert this dataframe to an interactive table.\"\n",
              "            style=\"display:none;\">\n",
              "\n",
              "  <svg xmlns=\"http://www.w3.org/2000/svg\" height=\"24px\" viewBox=\"0 -960 960 960\">\n",
              "    <path d=\"M120-120v-720h720v720H120Zm60-500h600v-160H180v160Zm220 220h160v-160H400v160Zm0 220h160v-160H400v160ZM180-400h160v-160H180v160Zm440 0h160v-160H620v160ZM180-180h160v-160H180v160Zm440 0h160v-160H620v160Z\"/>\n",
              "  </svg>\n",
              "    </button>\n",
              "\n",
              "  <style>\n",
              "    .colab-df-container {\n",
              "      display:flex;\n",
              "      gap: 12px;\n",
              "    }\n",
              "\n",
              "    .colab-df-convert {\n",
              "      background-color: #E8F0FE;\n",
              "      border: none;\n",
              "      border-radius: 50%;\n",
              "      cursor: pointer;\n",
              "      display: none;\n",
              "      fill: #1967D2;\n",
              "      height: 32px;\n",
              "      padding: 0 0 0 0;\n",
              "      width: 32px;\n",
              "    }\n",
              "\n",
              "    .colab-df-convert:hover {\n",
              "      background-color: #E2EBFA;\n",
              "      box-shadow: 0px 1px 2px rgba(60, 64, 67, 0.3), 0px 1px 3px 1px rgba(60, 64, 67, 0.15);\n",
              "      fill: #174EA6;\n",
              "    }\n",
              "\n",
              "    .colab-df-buttons div {\n",
              "      margin-bottom: 4px;\n",
              "    }\n",
              "\n",
              "    [theme=dark] .colab-df-convert {\n",
              "      background-color: #3B4455;\n",
              "      fill: #D2E3FC;\n",
              "    }\n",
              "\n",
              "    [theme=dark] .colab-df-convert:hover {\n",
              "      background-color: #434B5C;\n",
              "      box-shadow: 0px 1px 3px 1px rgba(0, 0, 0, 0.15);\n",
              "      filter: drop-shadow(0px 1px 2px rgba(0, 0, 0, 0.3));\n",
              "      fill: #FFFFFF;\n",
              "    }\n",
              "  </style>\n",
              "\n",
              "    <script>\n",
              "      const buttonEl =\n",
              "        document.querySelector('#df-f34d9ce3-b186-48bc-a82c-cfa5e4a59541 button.colab-df-convert');\n",
              "      buttonEl.style.display =\n",
              "        google.colab.kernel.accessAllowed ? 'block' : 'none';\n",
              "\n",
              "      async function convertToInteractive(key) {\n",
              "        const element = document.querySelector('#df-f34d9ce3-b186-48bc-a82c-cfa5e4a59541');\n",
              "        const dataTable =\n",
              "          await google.colab.kernel.invokeFunction('convertToInteractive',\n",
              "                                                    [key], {});\n",
              "        if (!dataTable) return;\n",
              "\n",
              "        const docLinkHtml = 'Like what you see? Visit the ' +\n",
              "          '<a target=\"_blank\" href=https://colab.research.google.com/notebooks/data_table.ipynb>data table notebook</a>'\n",
              "          + ' to learn more about interactive tables.';\n",
              "        element.innerHTML = '';\n",
              "        dataTable['output_type'] = 'display_data';\n",
              "        await google.colab.output.renderOutput(dataTable, element);\n",
              "        const docLink = document.createElement('div');\n",
              "        docLink.innerHTML = docLinkHtml;\n",
              "        element.appendChild(docLink);\n",
              "      }\n",
              "    </script>\n",
              "  </div>\n",
              "\n",
              "\n",
              "<div id=\"df-083aa843-352f-4134-86ac-91184cc0e331\">\n",
              "  <button class=\"colab-df-quickchart\" onclick=\"quickchart('df-083aa843-352f-4134-86ac-91184cc0e331')\"\n",
              "            title=\"Suggest charts\"\n",
              "            style=\"display:none;\">\n",
              "\n",
              "<svg xmlns=\"http://www.w3.org/2000/svg\" height=\"24px\"viewBox=\"0 0 24 24\"\n",
              "     width=\"24px\">\n",
              "    <g>\n",
              "        <path d=\"M19 3H5c-1.1 0-2 .9-2 2v14c0 1.1.9 2 2 2h14c1.1 0 2-.9 2-2V5c0-1.1-.9-2-2-2zM9 17H7v-7h2v7zm4 0h-2V7h2v10zm4 0h-2v-4h2v4z\"/>\n",
              "    </g>\n",
              "</svg>\n",
              "  </button>\n",
              "\n",
              "<style>\n",
              "  .colab-df-quickchart {\n",
              "      --bg-color: #E8F0FE;\n",
              "      --fill-color: #1967D2;\n",
              "      --hover-bg-color: #E2EBFA;\n",
              "      --hover-fill-color: #174EA6;\n",
              "      --disabled-fill-color: #AAA;\n",
              "      --disabled-bg-color: #DDD;\n",
              "  }\n",
              "\n",
              "  [theme=dark] .colab-df-quickchart {\n",
              "      --bg-color: #3B4455;\n",
              "      --fill-color: #D2E3FC;\n",
              "      --hover-bg-color: #434B5C;\n",
              "      --hover-fill-color: #FFFFFF;\n",
              "      --disabled-bg-color: #3B4455;\n",
              "      --disabled-fill-color: #666;\n",
              "  }\n",
              "\n",
              "  .colab-df-quickchart {\n",
              "    background-color: var(--bg-color);\n",
              "    border: none;\n",
              "    border-radius: 50%;\n",
              "    cursor: pointer;\n",
              "    display: none;\n",
              "    fill: var(--fill-color);\n",
              "    height: 32px;\n",
              "    padding: 0;\n",
              "    width: 32px;\n",
              "  }\n",
              "\n",
              "  .colab-df-quickchart:hover {\n",
              "    background-color: var(--hover-bg-color);\n",
              "    box-shadow: 0 1px 2px rgba(60, 64, 67, 0.3), 0 1px 3px 1px rgba(60, 64, 67, 0.15);\n",
              "    fill: var(--button-hover-fill-color);\n",
              "  }\n",
              "\n",
              "  .colab-df-quickchart-complete:disabled,\n",
              "  .colab-df-quickchart-complete:disabled:hover {\n",
              "    background-color: var(--disabled-bg-color);\n",
              "    fill: var(--disabled-fill-color);\n",
              "    box-shadow: none;\n",
              "  }\n",
              "\n",
              "  .colab-df-spinner {\n",
              "    border: 2px solid var(--fill-color);\n",
              "    border-color: transparent;\n",
              "    border-bottom-color: var(--fill-color);\n",
              "    animation:\n",
              "      spin 1s steps(1) infinite;\n",
              "  }\n",
              "\n",
              "  @keyframes spin {\n",
              "    0% {\n",
              "      border-color: transparent;\n",
              "      border-bottom-color: var(--fill-color);\n",
              "      border-left-color: var(--fill-color);\n",
              "    }\n",
              "    20% {\n",
              "      border-color: transparent;\n",
              "      border-left-color: var(--fill-color);\n",
              "      border-top-color: var(--fill-color);\n",
              "    }\n",
              "    30% {\n",
              "      border-color: transparent;\n",
              "      border-left-color: var(--fill-color);\n",
              "      border-top-color: var(--fill-color);\n",
              "      border-right-color: var(--fill-color);\n",
              "    }\n",
              "    40% {\n",
              "      border-color: transparent;\n",
              "      border-right-color: var(--fill-color);\n",
              "      border-top-color: var(--fill-color);\n",
              "    }\n",
              "    60% {\n",
              "      border-color: transparent;\n",
              "      border-right-color: var(--fill-color);\n",
              "    }\n",
              "    80% {\n",
              "      border-color: transparent;\n",
              "      border-right-color: var(--fill-color);\n",
              "      border-bottom-color: var(--fill-color);\n",
              "    }\n",
              "    90% {\n",
              "      border-color: transparent;\n",
              "      border-bottom-color: var(--fill-color);\n",
              "    }\n",
              "  }\n",
              "</style>\n",
              "\n",
              "  <script>\n",
              "    async function quickchart(key) {\n",
              "      const quickchartButtonEl =\n",
              "        document.querySelector('#' + key + ' button');\n",
              "      quickchartButtonEl.disabled = true;  // To prevent multiple clicks.\n",
              "      quickchartButtonEl.classList.add('colab-df-spinner');\n",
              "      try {\n",
              "        const charts = await google.colab.kernel.invokeFunction(\n",
              "            'suggestCharts', [key], {});\n",
              "      } catch (error) {\n",
              "        console.error('Error during call to suggestCharts:', error);\n",
              "      }\n",
              "      quickchartButtonEl.classList.remove('colab-df-spinner');\n",
              "      quickchartButtonEl.classList.add('colab-df-quickchart-complete');\n",
              "    }\n",
              "    (() => {\n",
              "      let quickchartButtonEl =\n",
              "        document.querySelector('#df-083aa843-352f-4134-86ac-91184cc0e331 button');\n",
              "      quickchartButtonEl.style.display =\n",
              "        google.colab.kernel.accessAllowed ? 'block' : 'none';\n",
              "    })();\n",
              "  </script>\n",
              "</div>\n",
              "\n",
              "    </div>\n",
              "  </div>\n"
            ],
            "application/vnd.google.colaboratory.intrinsic+json": {
              "type": "dataframe"
            }
          },
          "metadata": {},
          "execution_count": 25
        }
      ]
    },
    {
      "cell_type": "code",
      "source": [
        "series=[]\n",
        "for name in df.columns:\n",
        "  series.append(df[name].value_counts())\n",
        "info=pd.DataFrame(series)\n",
        "details=info.transpose()\n",
        "print(details)"
      ],
      "metadata": {
        "colab": {
          "base_uri": "https://localhost:8080/"
        },
        "id": "s4UZLz1UWH0L",
        "outputId": "d76f11c7-a08e-4fff-91ef-0389d8e7c540"
      },
      "execution_count": null,
      "outputs": [
        {
          "output_type": "stream",
          "name": "stdout",
          "text": [
            "   count  count  count  count  count  count  count  count  count  count  ...  \\\n",
            "t   38.0   26.0   27.0   26.0   22.0   24.0   30.0   32.0   32.0   28.0  ...   \n",
            "c   27.0   22.0   21.0   30.0   19.0   18.0   21.0   20.0   22.0   22.0  ...   \n",
            "a   26.0   34.0   30.0   22.0   36.0   42.0   38.0   34.0   33.0   36.0  ...   \n",
            "g   15.0   24.0   28.0   28.0   29.0   22.0   17.0   20.0   19.0   20.0  ...   \n",
            "+    NaN    NaN    NaN    NaN    NaN    NaN    NaN    NaN    NaN    NaN  ...   \n",
            "-    NaN    NaN    NaN    NaN    NaN    NaN    NaN    NaN    NaN    NaN  ...   \n",
            "\n",
            "   count  count  count  count  count  count  count  count  count  count  \n",
            "t   21.0   22.0   23.0   33.0   35.0   30.0   23.0   29.0   34.0    NaN  \n",
            "c   36.0   42.0   31.0   32.0   21.0   32.0   29.0   29.0   17.0    NaN  \n",
            "a   23.0   24.0   28.0   27.0   25.0   22.0   26.0   24.0   27.0    NaN  \n",
            "g   26.0   18.0   24.0   14.0   25.0   22.0   28.0   24.0   28.0    NaN  \n",
            "+    NaN    NaN    NaN    NaN    NaN    NaN    NaN    NaN    NaN   53.0  \n",
            "-    NaN    NaN    NaN    NaN    NaN    NaN    NaN    NaN    NaN   53.0  \n",
            "\n",
            "[6 rows x 58 columns]\n"
          ]
        }
      ]
    },
    {
      "cell_type": "code",
      "source": [
        "#new dataframe\n",
        "numerical_df=pd.get_dummies(df)\n",
        "numerical_df.loc[:5]\n"
      ],
      "metadata": {
        "colab": {
          "base_uri": "https://localhost:8080/",
          "height": 267
        },
        "id": "FClCR_5teBWr",
        "outputId": "c0b7a398-ee47-466f-dbe5-ac9b7c43e3f9"
      },
      "execution_count": null,
      "outputs": [
        {
          "output_type": "execute_result",
          "data": {
            "text/plain": [
              "     0_a    0_c    0_g    0_t    1_a    1_c    1_g    1_t    2_a    2_c  ...  \\\n",
              "0  False  False  False   True   True  False  False  False  False   True  ...   \n",
              "1  False  False  False   True  False  False   True  False  False   True  ...   \n",
              "2  False  False   True  False  False  False  False   True   True  False  ...   \n",
              "3   True  False  False  False   True  False  False  False  False  False  ...   \n",
              "4  False  False  False   True  False   True  False  False  False  False  ...   \n",
              "5   True  False  False  False  False  False   True  False  False  False  ...   \n",
              "\n",
              "    55_a   55_c   55_g   55_t   56_a   56_c   56_g   56_t  class_+  class_-  \n",
              "0  False  False   True  False  False  False  False   True     True    False  \n",
              "1   True  False  False  False   True  False  False  False     True    False  \n",
              "2  False   True  False  False  False  False   True  False     True    False  \n",
              "3  False  False  False   True  False   True  False  False     True    False  \n",
              "4   True  False  False  False  False  False   True  False     True    False  \n",
              "5  False  False   True  False  False  False  False   True     True    False  \n",
              "\n",
              "[6 rows x 230 columns]"
            ],
            "text/html": [
              "\n",
              "  <div id=\"df-8c0f9121-6be1-445f-a5ab-203f4a5bb2d2\" class=\"colab-df-container\">\n",
              "    <div>\n",
              "<style scoped>\n",
              "    .dataframe tbody tr th:only-of-type {\n",
              "        vertical-align: middle;\n",
              "    }\n",
              "\n",
              "    .dataframe tbody tr th {\n",
              "        vertical-align: top;\n",
              "    }\n",
              "\n",
              "    .dataframe thead th {\n",
              "        text-align: right;\n",
              "    }\n",
              "</style>\n",
              "<table border=\"1\" class=\"dataframe\">\n",
              "  <thead>\n",
              "    <tr style=\"text-align: right;\">\n",
              "      <th></th>\n",
              "      <th>0_a</th>\n",
              "      <th>0_c</th>\n",
              "      <th>0_g</th>\n",
              "      <th>0_t</th>\n",
              "      <th>1_a</th>\n",
              "      <th>1_c</th>\n",
              "      <th>1_g</th>\n",
              "      <th>1_t</th>\n",
              "      <th>2_a</th>\n",
              "      <th>2_c</th>\n",
              "      <th>...</th>\n",
              "      <th>55_a</th>\n",
              "      <th>55_c</th>\n",
              "      <th>55_g</th>\n",
              "      <th>55_t</th>\n",
              "      <th>56_a</th>\n",
              "      <th>56_c</th>\n",
              "      <th>56_g</th>\n",
              "      <th>56_t</th>\n",
              "      <th>class_+</th>\n",
              "      <th>class_-</th>\n",
              "    </tr>\n",
              "  </thead>\n",
              "  <tbody>\n",
              "    <tr>\n",
              "      <th>0</th>\n",
              "      <td>False</td>\n",
              "      <td>False</td>\n",
              "      <td>False</td>\n",
              "      <td>True</td>\n",
              "      <td>True</td>\n",
              "      <td>False</td>\n",
              "      <td>False</td>\n",
              "      <td>False</td>\n",
              "      <td>False</td>\n",
              "      <td>True</td>\n",
              "      <td>...</td>\n",
              "      <td>False</td>\n",
              "      <td>False</td>\n",
              "      <td>True</td>\n",
              "      <td>False</td>\n",
              "      <td>False</td>\n",
              "      <td>False</td>\n",
              "      <td>False</td>\n",
              "      <td>True</td>\n",
              "      <td>True</td>\n",
              "      <td>False</td>\n",
              "    </tr>\n",
              "    <tr>\n",
              "      <th>1</th>\n",
              "      <td>False</td>\n",
              "      <td>False</td>\n",
              "      <td>False</td>\n",
              "      <td>True</td>\n",
              "      <td>False</td>\n",
              "      <td>False</td>\n",
              "      <td>True</td>\n",
              "      <td>False</td>\n",
              "      <td>False</td>\n",
              "      <td>True</td>\n",
              "      <td>...</td>\n",
              "      <td>True</td>\n",
              "      <td>False</td>\n",
              "      <td>False</td>\n",
              "      <td>False</td>\n",
              "      <td>True</td>\n",
              "      <td>False</td>\n",
              "      <td>False</td>\n",
              "      <td>False</td>\n",
              "      <td>True</td>\n",
              "      <td>False</td>\n",
              "    </tr>\n",
              "    <tr>\n",
              "      <th>2</th>\n",
              "      <td>False</td>\n",
              "      <td>False</td>\n",
              "      <td>True</td>\n",
              "      <td>False</td>\n",
              "      <td>False</td>\n",
              "      <td>False</td>\n",
              "      <td>False</td>\n",
              "      <td>True</td>\n",
              "      <td>True</td>\n",
              "      <td>False</td>\n",
              "      <td>...</td>\n",
              "      <td>False</td>\n",
              "      <td>True</td>\n",
              "      <td>False</td>\n",
              "      <td>False</td>\n",
              "      <td>False</td>\n",
              "      <td>False</td>\n",
              "      <td>True</td>\n",
              "      <td>False</td>\n",
              "      <td>True</td>\n",
              "      <td>False</td>\n",
              "    </tr>\n",
              "    <tr>\n",
              "      <th>3</th>\n",
              "      <td>True</td>\n",
              "      <td>False</td>\n",
              "      <td>False</td>\n",
              "      <td>False</td>\n",
              "      <td>True</td>\n",
              "      <td>False</td>\n",
              "      <td>False</td>\n",
              "      <td>False</td>\n",
              "      <td>False</td>\n",
              "      <td>False</td>\n",
              "      <td>...</td>\n",
              "      <td>False</td>\n",
              "      <td>False</td>\n",
              "      <td>False</td>\n",
              "      <td>True</td>\n",
              "      <td>False</td>\n",
              "      <td>True</td>\n",
              "      <td>False</td>\n",
              "      <td>False</td>\n",
              "      <td>True</td>\n",
              "      <td>False</td>\n",
              "    </tr>\n",
              "    <tr>\n",
              "      <th>4</th>\n",
              "      <td>False</td>\n",
              "      <td>False</td>\n",
              "      <td>False</td>\n",
              "      <td>True</td>\n",
              "      <td>False</td>\n",
              "      <td>True</td>\n",
              "      <td>False</td>\n",
              "      <td>False</td>\n",
              "      <td>False</td>\n",
              "      <td>False</td>\n",
              "      <td>...</td>\n",
              "      <td>True</td>\n",
              "      <td>False</td>\n",
              "      <td>False</td>\n",
              "      <td>False</td>\n",
              "      <td>False</td>\n",
              "      <td>False</td>\n",
              "      <td>True</td>\n",
              "      <td>False</td>\n",
              "      <td>True</td>\n",
              "      <td>False</td>\n",
              "    </tr>\n",
              "    <tr>\n",
              "      <th>5</th>\n",
              "      <td>True</td>\n",
              "      <td>False</td>\n",
              "      <td>False</td>\n",
              "      <td>False</td>\n",
              "      <td>False</td>\n",
              "      <td>False</td>\n",
              "      <td>True</td>\n",
              "      <td>False</td>\n",
              "      <td>False</td>\n",
              "      <td>False</td>\n",
              "      <td>...</td>\n",
              "      <td>False</td>\n",
              "      <td>False</td>\n",
              "      <td>True</td>\n",
              "      <td>False</td>\n",
              "      <td>False</td>\n",
              "      <td>False</td>\n",
              "      <td>False</td>\n",
              "      <td>True</td>\n",
              "      <td>True</td>\n",
              "      <td>False</td>\n",
              "    </tr>\n",
              "  </tbody>\n",
              "</table>\n",
              "<p>6 rows × 230 columns</p>\n",
              "</div>\n",
              "    <div class=\"colab-df-buttons\">\n",
              "\n",
              "  <div class=\"colab-df-container\">\n",
              "    <button class=\"colab-df-convert\" onclick=\"convertToInteractive('df-8c0f9121-6be1-445f-a5ab-203f4a5bb2d2')\"\n",
              "            title=\"Convert this dataframe to an interactive table.\"\n",
              "            style=\"display:none;\">\n",
              "\n",
              "  <svg xmlns=\"http://www.w3.org/2000/svg\" height=\"24px\" viewBox=\"0 -960 960 960\">\n",
              "    <path d=\"M120-120v-720h720v720H120Zm60-500h600v-160H180v160Zm220 220h160v-160H400v160Zm0 220h160v-160H400v160ZM180-400h160v-160H180v160Zm440 0h160v-160H620v160ZM180-180h160v-160H180v160Zm440 0h160v-160H620v160Z\"/>\n",
              "  </svg>\n",
              "    </button>\n",
              "\n",
              "  <style>\n",
              "    .colab-df-container {\n",
              "      display:flex;\n",
              "      gap: 12px;\n",
              "    }\n",
              "\n",
              "    .colab-df-convert {\n",
              "      background-color: #E8F0FE;\n",
              "      border: none;\n",
              "      border-radius: 50%;\n",
              "      cursor: pointer;\n",
              "      display: none;\n",
              "      fill: #1967D2;\n",
              "      height: 32px;\n",
              "      padding: 0 0 0 0;\n",
              "      width: 32px;\n",
              "    }\n",
              "\n",
              "    .colab-df-convert:hover {\n",
              "      background-color: #E2EBFA;\n",
              "      box-shadow: 0px 1px 2px rgba(60, 64, 67, 0.3), 0px 1px 3px 1px rgba(60, 64, 67, 0.15);\n",
              "      fill: #174EA6;\n",
              "    }\n",
              "\n",
              "    .colab-df-buttons div {\n",
              "      margin-bottom: 4px;\n",
              "    }\n",
              "\n",
              "    [theme=dark] .colab-df-convert {\n",
              "      background-color: #3B4455;\n",
              "      fill: #D2E3FC;\n",
              "    }\n",
              "\n",
              "    [theme=dark] .colab-df-convert:hover {\n",
              "      background-color: #434B5C;\n",
              "      box-shadow: 0px 1px 3px 1px rgba(0, 0, 0, 0.15);\n",
              "      filter: drop-shadow(0px 1px 2px rgba(0, 0, 0, 0.3));\n",
              "      fill: #FFFFFF;\n",
              "    }\n",
              "  </style>\n",
              "\n",
              "    <script>\n",
              "      const buttonEl =\n",
              "        document.querySelector('#df-8c0f9121-6be1-445f-a5ab-203f4a5bb2d2 button.colab-df-convert');\n",
              "      buttonEl.style.display =\n",
              "        google.colab.kernel.accessAllowed ? 'block' : 'none';\n",
              "\n",
              "      async function convertToInteractive(key) {\n",
              "        const element = document.querySelector('#df-8c0f9121-6be1-445f-a5ab-203f4a5bb2d2');\n",
              "        const dataTable =\n",
              "          await google.colab.kernel.invokeFunction('convertToInteractive',\n",
              "                                                    [key], {});\n",
              "        if (!dataTable) return;\n",
              "\n",
              "        const docLinkHtml = 'Like what you see? Visit the ' +\n",
              "          '<a target=\"_blank\" href=https://colab.research.google.com/notebooks/data_table.ipynb>data table notebook</a>'\n",
              "          + ' to learn more about interactive tables.';\n",
              "        element.innerHTML = '';\n",
              "        dataTable['output_type'] = 'display_data';\n",
              "        await google.colab.output.renderOutput(dataTable, element);\n",
              "        const docLink = document.createElement('div');\n",
              "        docLink.innerHTML = docLinkHtml;\n",
              "        element.appendChild(docLink);\n",
              "      }\n",
              "    </script>\n",
              "  </div>\n",
              "\n",
              "\n",
              "<div id=\"df-a85ae372-01bb-42d8-8d90-37fa09b23694\">\n",
              "  <button class=\"colab-df-quickchart\" onclick=\"quickchart('df-a85ae372-01bb-42d8-8d90-37fa09b23694')\"\n",
              "            title=\"Suggest charts\"\n",
              "            style=\"display:none;\">\n",
              "\n",
              "<svg xmlns=\"http://www.w3.org/2000/svg\" height=\"24px\"viewBox=\"0 0 24 24\"\n",
              "     width=\"24px\">\n",
              "    <g>\n",
              "        <path d=\"M19 3H5c-1.1 0-2 .9-2 2v14c0 1.1.9 2 2 2h14c1.1 0 2-.9 2-2V5c0-1.1-.9-2-2-2zM9 17H7v-7h2v7zm4 0h-2V7h2v10zm4 0h-2v-4h2v4z\"/>\n",
              "    </g>\n",
              "</svg>\n",
              "  </button>\n",
              "\n",
              "<style>\n",
              "  .colab-df-quickchart {\n",
              "      --bg-color: #E8F0FE;\n",
              "      --fill-color: #1967D2;\n",
              "      --hover-bg-color: #E2EBFA;\n",
              "      --hover-fill-color: #174EA6;\n",
              "      --disabled-fill-color: #AAA;\n",
              "      --disabled-bg-color: #DDD;\n",
              "  }\n",
              "\n",
              "  [theme=dark] .colab-df-quickchart {\n",
              "      --bg-color: #3B4455;\n",
              "      --fill-color: #D2E3FC;\n",
              "      --hover-bg-color: #434B5C;\n",
              "      --hover-fill-color: #FFFFFF;\n",
              "      --disabled-bg-color: #3B4455;\n",
              "      --disabled-fill-color: #666;\n",
              "  }\n",
              "\n",
              "  .colab-df-quickchart {\n",
              "    background-color: var(--bg-color);\n",
              "    border: none;\n",
              "    border-radius: 50%;\n",
              "    cursor: pointer;\n",
              "    display: none;\n",
              "    fill: var(--fill-color);\n",
              "    height: 32px;\n",
              "    padding: 0;\n",
              "    width: 32px;\n",
              "  }\n",
              "\n",
              "  .colab-df-quickchart:hover {\n",
              "    background-color: var(--hover-bg-color);\n",
              "    box-shadow: 0 1px 2px rgba(60, 64, 67, 0.3), 0 1px 3px 1px rgba(60, 64, 67, 0.15);\n",
              "    fill: var(--button-hover-fill-color);\n",
              "  }\n",
              "\n",
              "  .colab-df-quickchart-complete:disabled,\n",
              "  .colab-df-quickchart-complete:disabled:hover {\n",
              "    background-color: var(--disabled-bg-color);\n",
              "    fill: var(--disabled-fill-color);\n",
              "    box-shadow: none;\n",
              "  }\n",
              "\n",
              "  .colab-df-spinner {\n",
              "    border: 2px solid var(--fill-color);\n",
              "    border-color: transparent;\n",
              "    border-bottom-color: var(--fill-color);\n",
              "    animation:\n",
              "      spin 1s steps(1) infinite;\n",
              "  }\n",
              "\n",
              "  @keyframes spin {\n",
              "    0% {\n",
              "      border-color: transparent;\n",
              "      border-bottom-color: var(--fill-color);\n",
              "      border-left-color: var(--fill-color);\n",
              "    }\n",
              "    20% {\n",
              "      border-color: transparent;\n",
              "      border-left-color: var(--fill-color);\n",
              "      border-top-color: var(--fill-color);\n",
              "    }\n",
              "    30% {\n",
              "      border-color: transparent;\n",
              "      border-left-color: var(--fill-color);\n",
              "      border-top-color: var(--fill-color);\n",
              "      border-right-color: var(--fill-color);\n",
              "    }\n",
              "    40% {\n",
              "      border-color: transparent;\n",
              "      border-right-color: var(--fill-color);\n",
              "      border-top-color: var(--fill-color);\n",
              "    }\n",
              "    60% {\n",
              "      border-color: transparent;\n",
              "      border-right-color: var(--fill-color);\n",
              "    }\n",
              "    80% {\n",
              "      border-color: transparent;\n",
              "      border-right-color: var(--fill-color);\n",
              "      border-bottom-color: var(--fill-color);\n",
              "    }\n",
              "    90% {\n",
              "      border-color: transparent;\n",
              "      border-bottom-color: var(--fill-color);\n",
              "    }\n",
              "  }\n",
              "</style>\n",
              "\n",
              "  <script>\n",
              "    async function quickchart(key) {\n",
              "      const quickchartButtonEl =\n",
              "        document.querySelector('#' + key + ' button');\n",
              "      quickchartButtonEl.disabled = true;  // To prevent multiple clicks.\n",
              "      quickchartButtonEl.classList.add('colab-df-spinner');\n",
              "      try {\n",
              "        const charts = await google.colab.kernel.invokeFunction(\n",
              "            'suggestCharts', [key], {});\n",
              "      } catch (error) {\n",
              "        console.error('Error during call to suggestCharts:', error);\n",
              "      }\n",
              "      quickchartButtonEl.classList.remove('colab-df-spinner');\n",
              "      quickchartButtonEl.classList.add('colab-df-quickchart-complete');\n",
              "    }\n",
              "    (() => {\n",
              "      let quickchartButtonEl =\n",
              "        document.querySelector('#df-a85ae372-01bb-42d8-8d90-37fa09b23694 button');\n",
              "      quickchartButtonEl.style.display =\n",
              "        google.colab.kernel.accessAllowed ? 'block' : 'none';\n",
              "    })();\n",
              "  </script>\n",
              "</div>\n",
              "\n",
              "    </div>\n",
              "  </div>\n"
            ],
            "application/vnd.google.colaboratory.intrinsic+json": {
              "type": "dataframe"
            }
          },
          "metadata": {},
          "execution_count": 27
        }
      ]
    },
    {
      "cell_type": "code",
      "source": [
        "df=numerical_df.drop(columns=['class_-'])\n",
        "df.rename(columns={'class_+':'class'}, inplace=True)"
      ],
      "metadata": {
        "id": "Yirh2CmmeBZW"
      },
      "execution_count": null,
      "outputs": []
    },
    {
      "cell_type": "code",
      "source": [
        "df=df.astype(int)\n",
        "print(df.iloc[:5])"
      ],
      "metadata": {
        "colab": {
          "base_uri": "https://localhost:8080/"
        },
        "id": "fIxnVI6neBcR",
        "outputId": "f7d9fbd4-c240-486e-e178-7b5d36c59beb"
      },
      "execution_count": null,
      "outputs": [
        {
          "output_type": "stream",
          "name": "stdout",
          "text": [
            "   0_a  0_c  0_g  0_t  1_a  1_c  1_g  1_t  2_a  2_c  ...  54_t  55_a  55_c  \\\n",
            "0    0    0    0    1    1    0    0    0    0    1  ...     0     0     0   \n",
            "1    0    0    0    1    0    0    1    0    0    1  ...     0     1     0   \n",
            "2    0    0    1    0    0    0    0    1    1    0  ...     0     0     1   \n",
            "3    1    0    0    0    1    0    0    0    0    0  ...     0     0     0   \n",
            "4    0    0    0    1    0    1    0    0    0    0  ...     1     1     0   \n",
            "\n",
            "   55_g  55_t  56_a  56_c  56_g  56_t  class  \n",
            "0     1     0     0     0     0     1      1  \n",
            "1     0     0     1     0     0     0      1  \n",
            "2     0     0     0     0     1     0      1  \n",
            "3     0     1     0     1     0     0      1  \n",
            "4     0     0     0     0     1     0      1  \n",
            "\n",
            "[5 rows x 229 columns]\n"
          ]
        }
      ]
    },
    {
      "cell_type": "markdown",
      "source": [
        "**Splitting the dataset into training and test model**"
      ],
      "metadata": {
        "id": "rP5V2u9Om87Y"
      }
    },
    {
      "cell_type": "code",
      "source": [
        "!pip install scikit-learn\n",
        "\n",
        "\n",
        "\n"
      ],
      "metadata": {
        "colab": {
          "base_uri": "https://localhost:8080/"
        },
        "id": "2GpXMXFhWH2V",
        "outputId": "9e130cbb-bd68-4595-f729-fae1dc7bb43c"
      },
      "execution_count": null,
      "outputs": [
        {
          "output_type": "stream",
          "name": "stdout",
          "text": [
            "Requirement already satisfied: scikit-learn in /usr/local/lib/python3.10/dist-packages (1.2.2)\n",
            "Requirement already satisfied: numpy>=1.17.3 in /usr/local/lib/python3.10/dist-packages (from scikit-learn) (1.25.2)\n",
            "Requirement already satisfied: scipy>=1.3.2 in /usr/local/lib/python3.10/dist-packages (from scikit-learn) (1.11.4)\n",
            "Requirement already satisfied: joblib>=1.1.1 in /usr/local/lib/python3.10/dist-packages (from scikit-learn) (1.4.0)\n",
            "Requirement already satisfied: threadpoolctl>=2.0.0 in /usr/local/lib/python3.10/dist-packages (from scikit-learn) (3.4.0)\n"
          ]
        }
      ]
    },
    {
      "cell_type": "code",
      "source": [
        "from sklearn.neighbors import KNeighborsClassifier\n",
        "from sklearn.neural_network import MLPClassifier\n",
        "from sklearn.gaussian_process import GaussianProcessClassifier  # Corrected capitalization\n",
        "from sklearn.gaussian_process.kernels import RBF\n",
        "from sklearn.tree import DecisionTreeClassifier  # Corrected capitalization\n",
        "from sklearn.ensemble import RandomForestClassifier, AdaBoostClassifier\n",
        "from sklearn.naive_bayes import GaussianNB  # Corrected capitalization\n",
        "from sklearn.svm import SVC  # Corrected capitalization\n",
        "from sklearn.metrics import classification_report, accuracy_score\n",
        "from sklearn.model_selection import KFold, cross_val_score"
      ],
      "metadata": {
        "id": "eMJP8oD183O1"
      },
      "execution_count": null,
      "outputs": []
    },
    {
      "cell_type": "code",
      "source": [
        "from sklearn import model_selection\n",
        "#create X and Y datasets for training\n",
        "X = df.drop(['class'], axis=1).values\n",
        "\n",
        "# Extract the 'class' column to create the target vector Y\n",
        "Y = df['class'].values\n",
        "#define seed for productivity\n",
        "seed=1\n",
        "#split data into training and test\n",
        "X_train, X_test, Y_train, Y_test = model_selection.train_test_split(X, Y, test_size=0.25, random_state=seed)"
      ],
      "metadata": {
        "id": "jQWsH84i83RP"
      },
      "execution_count": null,
      "outputs": []
    },
    {
      "cell_type": "markdown",
      "source": [
        "from sklearn import model_selection , This imports the model_selection module from scikit-learn, which provides functions for splitting data into training and testing sets.\n",
        "\n",
        "X = np.array(df.drop(['class'], 1))\n",
        "Y = np.array(df.drop(['class'], axis=1))\n",
        "This code creates the feature matrix X and the target vector Y for training the model. X contains all columns from the DataFrame df except for the column named 'class', while Y contains all columns of df except for the 'class' column.\n",
        "Defining seed for reproducibility:\n",
        "python\n",
        "\n",
        "seed = 1\n",
        "This line defines a seed value that will be used by random number generators. Setting a seed ensures that the random splitting of data into training and testing sets will be reproducible, meaning you'll get the same split every time you run the code with the same seed value.\n",
        "Splitting data into training and test sets:\n"
      ],
      "metadata": {
        "id": "RNyEh2ZaBby_"
      }
    },
    {
      "cell_type": "markdown",
      "source": [
        "SCoring Method, model tp train"
      ],
      "metadata": {
        "id": "gNE4O3nLDp2c"
      }
    },
    {
      "cell_type": "code",
      "source": [
        "kfold = KFold(n_splits=10, shuffle=True, random_state=seed)"
      ],
      "metadata": {
        "id": "SOhDX9stIn0q"
      },
      "execution_count": null,
      "outputs": []
    },
    {
      "cell_type": "code",
      "source": [
        "\n",
        "\n",
        "# Define classifiers and their names\n",
        "classifiers = [\n",
        "    KNeighborsClassifier(n_neighbors=3),  #model will consider 3 nearest neighbprs\n",
        "    GaussianProcessClassifier(1.0 * RBF(1.0)),\n",
        "    DecisionTreeClassifier(max_depth=5), #tree will have a maximum depth of 5 levels\n",
        "    RandomForestClassifier(max_depth=5, n_estimators=10, max_features=1),\n",
        "    # depth=5 levels, number of decision trees =10, best split feat =only one feature at split\n",
        "    MLPClassifier(alpha=1),\n",
        "    #prevent overfitting by penalizing large weights\n",
        "    AdaBoostClassifier(), #AdaBoostClassifier uses decision trees as its default base estimator.\n",
        "    GaussianNB(),\n",
        "    SVC(kernel='linear'),\n",
        "    SVC(kernel='rbf'),\n",
        "    SVC(kernel='sigmoid')\n",
        "]\n",
        "\n",
        "names = ['Nearest Neighbors', 'Gaussian Process', 'Decision Tree', 'Random Forest',\n",
        "         'Neural Net', 'AdaBoost', 'Gaussian Naive Bayes', 'SVM Linear', 'SVM RBF', 'SVM Sigmoid']\n",
        "\n",
        "# Define scoring method evaluating the performance of the classifiers. Here, we're\n",
        "#using accuracy as the scoring method, which measures the proportion of correctly classified instances.\n",
        "\n",
        "scoring = 'accuracy'\n",
        "models=zip(names, classifiers)\n",
        "results = []\n",
        "names=[]\n",
        "for name, model in models:\n",
        "    kfold = model_selection.KFold(n_splits=10, shuffle=True, random_state=seed)\n",
        "    cv_results = model_selection.cross_val_score(model, X_train, Y_train, cv=kfold, scoring=scoring)\n",
        "    results.append(cv_results)\n",
        "    names.append(name)\n",
        "    msg = \"%s: %f (%f)\" % (name, cv_results.mean(), cv_results.std())\n",
        "    print(msg)\n",
        "\n",
        "    model.fit(X_train, Y_train)\n",
        "\n",
        "    # Make predictions on the test data\n",
        "    predictions = model.predict(X_test)\n",
        "\n",
        "    # Print classifier name\n",
        "    print(name)\n",
        "\n",
        "    # Print classification report\n",
        "    print(classification_report(Y_test, predictions))"
      ],
      "metadata": {
        "colab": {
          "base_uri": "https://localhost:8080/"
        },
        "id": "8ss6aguI83Zq",
        "outputId": "a9988c8a-29c9-4cad-fcf0-6ec507f01a8e"
      },
      "execution_count": null,
      "outputs": [
        {
          "output_type": "stream",
          "name": "stdout",
          "text": [
            "Nearest Neighbors: 0.810714 (0.099808)\n",
            "Nearest Neighbors\n",
            "              precision    recall  f1-score   support\n",
            "\n",
            "           0       1.00      0.65      0.79        17\n",
            "           1       0.62      1.00      0.77        10\n",
            "\n",
            "    accuracy                           0.78        27\n",
            "   macro avg       0.81      0.82      0.78        27\n",
            "weighted avg       0.86      0.78      0.78        27\n",
            "\n"
          ]
        },
        {
          "output_type": "stream",
          "name": "stderr",
          "text": [
            "/usr/local/lib/python3.10/dist-packages/sklearn/gaussian_process/kernels.py:420: ConvergenceWarning: The optimal value found for dimension 0 of parameter k1__constant_value is close to the specified lower bound 1e-05. Decreasing the bound and calling fit again may find a better value.\n",
            "  warnings.warn(\n"
          ]
        },
        {
          "output_type": "stream",
          "name": "stdout",
          "text": [
            "Gaussian Process: 0.855357 (0.160605)\n",
            "Gaussian Process\n",
            "              precision    recall  f1-score   support\n",
            "\n",
            "           0       1.00      0.82      0.90        17\n",
            "           1       0.77      1.00      0.87        10\n",
            "\n",
            "    accuracy                           0.89        27\n",
            "   macro avg       0.88      0.91      0.89        27\n",
            "weighted avg       0.91      0.89      0.89        27\n",
            "\n",
            "Decision Tree: 0.719643 (0.127788)\n",
            "Decision Tree\n",
            "              precision    recall  f1-score   support\n",
            "\n",
            "           0       0.92      0.65      0.76        17\n",
            "           1       0.60      0.90      0.72        10\n",
            "\n",
            "    accuracy                           0.74        27\n",
            "   macro avg       0.76      0.77      0.74        27\n",
            "weighted avg       0.80      0.74      0.74        27\n",
            "\n",
            "Random Forest: 0.707143 (0.141782)\n",
            "Random Forest\n",
            "              precision    recall  f1-score   support\n",
            "\n",
            "           0       0.88      0.82      0.85        17\n",
            "           1       0.73      0.80      0.76        10\n",
            "\n",
            "    accuracy                           0.81        27\n",
            "   macro avg       0.80      0.81      0.81        27\n",
            "weighted avg       0.82      0.81      0.82        27\n",
            "\n"
          ]
        },
        {
          "output_type": "stream",
          "name": "stderr",
          "text": [
            "/usr/local/lib/python3.10/dist-packages/sklearn/neural_network/_multilayer_perceptron.py:686: ConvergenceWarning: Stochastic Optimizer: Maximum iterations (200) reached and the optimization hasn't converged yet.\n",
            "  warnings.warn(\n",
            "/usr/local/lib/python3.10/dist-packages/sklearn/neural_network/_multilayer_perceptron.py:686: ConvergenceWarning: Stochastic Optimizer: Maximum iterations (200) reached and the optimization hasn't converged yet.\n",
            "  warnings.warn(\n",
            "/usr/local/lib/python3.10/dist-packages/sklearn/neural_network/_multilayer_perceptron.py:686: ConvergenceWarning: Stochastic Optimizer: Maximum iterations (200) reached and the optimization hasn't converged yet.\n",
            "  warnings.warn(\n",
            "/usr/local/lib/python3.10/dist-packages/sklearn/neural_network/_multilayer_perceptron.py:686: ConvergenceWarning: Stochastic Optimizer: Maximum iterations (200) reached and the optimization hasn't converged yet.\n",
            "  warnings.warn(\n",
            "/usr/local/lib/python3.10/dist-packages/sklearn/neural_network/_multilayer_perceptron.py:686: ConvergenceWarning: Stochastic Optimizer: Maximum iterations (200) reached and the optimization hasn't converged yet.\n",
            "  warnings.warn(\n",
            "/usr/local/lib/python3.10/dist-packages/sklearn/neural_network/_multilayer_perceptron.py:686: ConvergenceWarning: Stochastic Optimizer: Maximum iterations (200) reached and the optimization hasn't converged yet.\n",
            "  warnings.warn(\n",
            "/usr/local/lib/python3.10/dist-packages/sklearn/neural_network/_multilayer_perceptron.py:686: ConvergenceWarning: Stochastic Optimizer: Maximum iterations (200) reached and the optimization hasn't converged yet.\n",
            "  warnings.warn(\n",
            "/usr/local/lib/python3.10/dist-packages/sklearn/neural_network/_multilayer_perceptron.py:686: ConvergenceWarning: Stochastic Optimizer: Maximum iterations (200) reached and the optimization hasn't converged yet.\n",
            "  warnings.warn(\n",
            "/usr/local/lib/python3.10/dist-packages/sklearn/neural_network/_multilayer_perceptron.py:686: ConvergenceWarning: Stochastic Optimizer: Maximum iterations (200) reached and the optimization hasn't converged yet.\n",
            "  warnings.warn(\n",
            "/usr/local/lib/python3.10/dist-packages/sklearn/neural_network/_multilayer_perceptron.py:686: ConvergenceWarning: Stochastic Optimizer: Maximum iterations (200) reached and the optimization hasn't converged yet.\n",
            "  warnings.warn(\n"
          ]
        },
        {
          "output_type": "stream",
          "name": "stdout",
          "text": [
            "Neural Net: 0.900000 (0.093541)\n"
          ]
        },
        {
          "output_type": "stream",
          "name": "stderr",
          "text": [
            "/usr/local/lib/python3.10/dist-packages/sklearn/neural_network/_multilayer_perceptron.py:686: ConvergenceWarning: Stochastic Optimizer: Maximum iterations (200) reached and the optimization hasn't converged yet.\n",
            "  warnings.warn(\n"
          ]
        },
        {
          "output_type": "stream",
          "name": "stdout",
          "text": [
            "Neural Net\n",
            "              precision    recall  f1-score   support\n",
            "\n",
            "           0       1.00      0.82      0.90        17\n",
            "           1       0.77      1.00      0.87        10\n",
            "\n",
            "    accuracy                           0.89        27\n",
            "   macro avg       0.88      0.91      0.89        27\n",
            "weighted avg       0.91      0.89      0.89        27\n",
            "\n",
            "AdaBoost: 0.875000 (0.147902)\n",
            "AdaBoost\n",
            "              precision    recall  f1-score   support\n",
            "\n",
            "           0       1.00      0.76      0.87        17\n",
            "           1       0.71      1.00      0.83        10\n",
            "\n",
            "    accuracy                           0.85        27\n",
            "   macro avg       0.86      0.88      0.85        27\n",
            "weighted avg       0.89      0.85      0.85        27\n",
            "\n",
            "Gaussian Naive Bayes: 0.837500 (0.112500)\n",
            "Gaussian Naive Bayes\n",
            "              precision    recall  f1-score   support\n",
            "\n",
            "           0       1.00      0.88      0.94        17\n",
            "           1       0.83      1.00      0.91        10\n",
            "\n",
            "    accuracy                           0.93        27\n",
            "   macro avg       0.92      0.94      0.92        27\n",
            "weighted avg       0.94      0.93      0.93        27\n",
            "\n",
            "SVM Linear: 0.912500 (0.097628)\n",
            "SVM Linear\n",
            "              precision    recall  f1-score   support\n",
            "\n",
            "           0       1.00      0.94      0.97        17\n",
            "           1       0.91      1.00      0.95        10\n",
            "\n",
            "    accuracy                           0.96        27\n",
            "   macro avg       0.95      0.97      0.96        27\n",
            "weighted avg       0.97      0.96      0.96        27\n",
            "\n",
            "SVM RBF: 0.875000 (0.111803)\n",
            "SVM RBF\n",
            "              precision    recall  f1-score   support\n",
            "\n",
            "           0       1.00      0.88      0.94        17\n",
            "           1       0.83      1.00      0.91        10\n",
            "\n",
            "    accuracy                           0.93        27\n",
            "   macro avg       0.92      0.94      0.92        27\n",
            "weighted avg       0.94      0.93      0.93        27\n",
            "\n",
            "SVM Sigmoid: 0.925000 (0.100000)\n",
            "SVM Sigmoid\n",
            "              precision    recall  f1-score   support\n",
            "\n",
            "           0       1.00      0.88      0.94        17\n",
            "           1       0.83      1.00      0.91        10\n",
            "\n",
            "    accuracy                           0.93        27\n",
            "   macro avg       0.92      0.94      0.92        27\n",
            "weighted avg       0.94      0.93      0.93        27\n",
            "\n"
          ]
        }
      ]
    },
    {
      "cell_type": "markdown",
      "source": [
        "KFold is a method for splitting a dataset into k consecutive folds, and cross_val_score is a function for evaluating a score by cross-validation.\n",
        "\n",
        "kernel='linear': This specifies the type of kernel used in the SVC. Here, it's set to a linear kernel, which means the decision boundary will be linear.\n",
        "kernel='rbf': This specifies the type of kernel used in the SVC. Here, it's set to a radial basis function (RBF) kernel, which is commonly used when the data is not linearly separable.\n",
        "kernel='sigmoid': This specifies the type of kernel used in the SVC. Here, it's set to a sigmoid kernel.\n",
        "\n",
        "cv_results = cross_val_score(model, X_train, Y_train, cv=kfold, scoring=scoring)\n",
        "This line calculates the cross-validated scores for the current classifier using the cross_val_score function. It takes the model, training data (X_train and Y_train), cross-validation object (kfold), and scoring method (scoring) as inputs.\n",
        "\n",
        "msg = \"%s: %f (%f)\" % (name, cv_results.mean(), cv_results.std())\n",
        "print(msg)\n",
        "This code prints the mean and standard deviation of the cross-validated scores for the current classifier. %s is a placeholder for the classifier name, %f is a placeholder for floating-point numbers (mean and standard deviation), and (name, cv_results.mean(), cv_results.std()) are the values to be substituted into the placeholders."
      ],
      "metadata": {
        "id": "wyuhJOWoI4ks"
      }
    },
    {
      "cell_type": "markdown",
      "source": [
        "Neural Net:\n",
        "Precision: The Neural Net classifier achieved perfect precision for class 0 (True) and a precision of 0.77 for class 1 (False). This means that when the classifier predicted an instance to be in class 0, it was correct 100% of the time, and when it predicted an instance to be in class 1, it was correct 77% of the time.\n",
        "Recall: The classifier achieved a recall of 0.82 for class 0 and perfect recall (1.00) for class 1. This indicates that the classifier correctly identified 82% of the instances belonging to class 0 and all instances belonging to class 1.\n",
        "F1-score: The F1-score is the harmonic mean of precision and recall. For class 0, it's 0.90, and for class 1, it's 0.87.\n",
        "Support: This indicates the number of instances in each class in the test set.\n",
        "\n",
        "AdaBoost:\n",
        "Similar to the Neural Net classifier, AdaBoost achieved high precision, recall, and F1-scores for both classes. However, it achieved a slightly lower accuracy of 0.85 compared to the Neural Net classifier.\n",
        "Despite having a lower accuracy, AdaBoost maintains a balanced performance for both classes, with precision, recall, and F1-scores above 0.7 for both.\n",
        "\n",
        "Gaussian Naive Bayes:\n",
        "Gaussian Naive Bayes achieved the highest accuracy among the classifiers evaluated, with an accuracy of 0.93.\n",
        "It shows excellent performance in terms of precision, recall, and F1-score for both classes, with F1-scores of 0.94 and 0.91 for classes 0 and 1, respectively.\n",
        "\n",
        "SVM Linear:\n",
        "SVM with a linear kernel achieved the highest accuracy among all classifiers, with an accuracy of 0.96.\n",
        "It shows excellent performance in terms of precision, recall, and F1-score for both classes, with F1-scores of 0.97 and 0.95 for classes 0 and 1, respectively.\n",
        "\n",
        "SVM RBF and SVM Sigmoid:\n",
        "SVM with RBF and sigmoid kernels achieved accuracies of 0.93, which is slightly lower than SVM with a linear kernel but still high.\n",
        "They maintain a balanced performance for both classes, with precision, recall, and F1-scores above 0.8 for both.\n",
        "\n",
        "In summary, each classifier demonstrates varying degrees of performance, but all perform relatively well. Neural Net, AdaBoost, and SVM with linear and Gaussian Naive Bayes classifiers stand out with high accuracies and balanced performance for both classes. These insights can help in selecting the most appropriate classifier for the task based on the desired balance between precision, recall, and overall accuracy."
      ],
      "metadata": {
        "id": "--6Hk6V2OP30"
      }
    },
    {
      "cell_type": "code",
      "source": [],
      "metadata": {
        "id": "ovB7Kwgd83d8"
      },
      "execution_count": null,
      "outputs": []
    },
    {
      "cell_type": "code",
      "source": [],
      "metadata": {
        "id": "-8OT0fn4NRxP"
      },
      "execution_count": null,
      "outputs": []
    },
    {
      "cell_type": "code",
      "source": [],
      "metadata": {
        "id": "tIR8A511NRzv"
      },
      "execution_count": null,
      "outputs": []
    },
    {
      "cell_type": "code",
      "source": [],
      "metadata": {
        "id": "JKLhs__PNR2f"
      },
      "execution_count": null,
      "outputs": []
    },
    {
      "cell_type": "code",
      "source": [],
      "metadata": {
        "id": "vd9ZB8S1NR5e"
      },
      "execution_count": null,
      "outputs": []
    },
    {
      "cell_type": "code",
      "source": [],
      "metadata": {
        "id": "XEjjXHEpNR9o"
      },
      "execution_count": null,
      "outputs": []
    },
    {
      "cell_type": "code",
      "source": [],
      "metadata": {
        "id": "IOJFQjJ1NSBD"
      },
      "execution_count": null,
      "outputs": []
    },
    {
      "cell_type": "code",
      "source": [],
      "metadata": {
        "id": "aqQ9xOH583hp"
      },
      "execution_count": null,
      "outputs": []
    },
    {
      "cell_type": "code",
      "source": [],
      "metadata": {
        "id": "Opc55uooWH4a"
      },
      "execution_count": null,
      "outputs": []
    },
    {
      "cell_type": "code",
      "source": [],
      "metadata": {
        "id": "Pey6UJ1NWH76"
      },
      "execution_count": null,
      "outputs": []
    }
  ]
}